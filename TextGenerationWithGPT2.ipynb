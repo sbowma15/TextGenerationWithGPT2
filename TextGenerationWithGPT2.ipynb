{
  "nbformat": 4,
  "nbformat_minor": 5,
  "metadata": {
    "interpreter": {
      "hash": "82f7237e8744fa450af06f16fd99e4f987c4ded027c30bb82e91e6fd7991cebc"
    },
    "kernelspec": {
      "display_name": "Python 3",
      "language": "python",
      "name": "python3"
    },
    "language_info": {
      "codemirror_mode": {
        "name": "ipython",
        "version": 3
      },
      "file_extension": ".py",
      "mimetype": "text/x-python",
      "name": "python",
      "nbconvert_exporter": "python",
      "pygments_lexer": "ipython3",
      "version": "3.8.10"
    },
    "colab": {
      "name": "cs39aa_01_introduction.ipynb",
      "provenance": [],
      "include_colab_link": true
    }
  },
  "cells": [
    {
      "cell_type": "markdown",
      "metadata": {
        "id": "view-in-github",
        "colab_type": "text"
      },
      "source": [
        "<a href=\"https://colab.research.google.com/github/sbowma15/TextGenerationWithGPT2/blob/main/TextGenerationWithGPT2.ipynb\" target=\"_parent\"><img src=\"https://colab.research.google.com/assets/colab-badge.svg\" alt=\"Open In Colab\"/></a>"
      ]
    },
    {
      "cell_type": "markdown",
      "metadata": {
        "id": "e7ef66c6"
      },
      "source": [
        "# CS39AA - Introduction\n",
        "\n",
        "## I. NLP Deep Learning Examples: Text Generation\n",
        "\n",
        "We won't get into the details of how this deep learning model works until later in the semester, but for now let's look at an example of a task that was not possible just a few years ago. GPT-2 was one of the first models that made this possible. Here is an example of using [GPT-2](https://en.wikipedia.org/wiki/GPT-2) (via the [huggingface](https://huggingface.co) transformers module/library).\n",
        "\n",
        "### 1. Import and download necessary module, model, and class\n",
        "First, we import a pipeline object (a handy abstraction that takes care of much of the underlying complexities for common tasks, such as NER, , sentiment analysis, text generation, etc.)\n",
        "\n",
        "__Note that this will download the underlying language model used by the Hugging Face pipeline (GPT-2 by default), which will download ~500MB! So, be sure you have a good internet connection before running the following cell. If you are using an online platform (e.g. Google Colab), then you probably don't want to download this since it will take up a lot of your precious storage space! As an alternative you can...__\n",
        "\n",
        "instead use [Deep AI's text generator demo](https://deepai.org/machine-learning-model/text-generator) online. Just be sure to document what you do below in subsection 4."
      ],
      "id": "e7ef66c6"
    },
    {
      "cell_type": "code",
      "metadata": {
        "id": "ac18d8d6"
      },
      "source": [
        "#PATH = '/home/steve/data/models/'\n",
        "#TEXTGEN = 'huggingface_textgen.pipeline'\n",
        "\n",
        "# download pipeline and model from hugginface\n",
        "#from transformers import pipeline\n",
        "#text_gen = pipeline(\"text-generation\")\n",
        "#text_gen.save_pretrained(PATH + TEXTGEN)\n",
        "# OR load a pre-downloaded and saved version\n",
        "#from transformers import AutoTokenizer, AutoModelWithLMHead, pipeline\n",
        "#tok = AutoTokenizer.from_pretrained(PATH + TEXTGEN, local_files_only=True)\n",
        "#mod = AutoModelWithLMHead.from_pretrained(PATH + TEXTGEN, local_files_only=True)\n",
        "#text_gen = pipeline(\"text-generation\", model=mod, tokenizer=tok)\n",
        "\n",
        "#basically we dont need this because we are on an online platform (ie google collab)\n",
        "\n",
        "#here are all my sources since the page is long ill put it at the top\n",
        "\n",
        "#https://medium.com/deep-learning-with-keras/char-level-text-generation-with-an-encoder-decoder-model-3712ef6c1d6f#:~:text=Top-k%20Sampling%201%20In%20the%20studies%2C%20it%20is,texts%20that%20mostly%20look%20random.%20More%20items...%20\n",
        "#https://huggingface.co/blog/how-to-generate\n",
        "#https://radimrehurek.com/gensim/auto_examples/tutorials/run_word2vec.html\n",
        "#https://medium.com/deep-learning-with-keras/char-level-text-generation-with-an-encoder-decoder-model-3712ef6c1d6f#:~:text=Top-k%20Sampling%201%20In%20the%20studies%2C%20it%20is,texts%20that%20mostly%20look%20random.%20More%20items...%20\n",
        "#https://qph.fs.quoracdn.net/main-qimg-956292e27b02d7403dd79942bcb71db5"
      ],
      "id": "ac18d8d6",
      "execution_count": null,
      "outputs": []
    },
    {
      "cell_type": "markdown",
      "metadata": {
        "id": "9ad83c15"
      },
      "source": [
        "### 2. Provide a starting text sequence\n",
        "\n",
        "We have already specified the task that we want to use our pipeline for above, namely text generation.\n",
        "\n",
        "Next, we will give the text generation pipeline something to start with. One of the potential use case for text generation is to help writers produce content more efficiently. This already presents us with an dilemna about how this technology is used. Is it ethical for an author/journalist/etc. to take credit for work created by AI? Should such content be trusted? There are many other questions to consider, which you should definitely think about!\n",
        "\n",
        "For the time being there is no model that is capable of generating high-quality, clear and cohesive text sequences of non-trivial length. So let's use text generation to help us overcome a hypothetical mild case of writer's block. One of my favorite examples of writer's block is from a Billy Crystal [classic](https://youtu.be/KfVunEjeQPQ) where he is stuck on the first line of his novel with, \"_The night was..._\""
      ],
      "id": "9ad83c15"
    },
    {
      "cell_type": "code",
      "metadata": {
        "id": "86af30a2"
      },
      "source": [
        "prefix_text = \"The night was\""
      ],
      "id": "86af30a2",
      "execution_count": null,
      "outputs": []
    },
    {
      "cell_type": "markdown",
      "metadata": {
        "id": "d0b6578e"
      },
      "source": [
        "### 3. Generate some text\n",
        "\n",
        "Finally, let's generate up to 50 additional tokens/words."
      ],
      "id": "d0b6578e"
    },
    {
      "cell_type": "code",
      "metadata": {
        "id": "9ceba77e",
        "colab": {
          "base_uri": "https://localhost:8080/"
        },
        "outputId": "5d7930ae-929a-4209-af49-ef463658b1c7"
      },
      "source": [
        "# generate a sequence\n",
        "#result01 = text_gen(prefix_text, max_length=50, do_sample=False)\n",
        "#result01 = text_gen(prefix_text, max_length=50, do_sample=False)\n",
        "\n",
        "#basically right here is where we load \"result01\" with output from the AI text\n",
        "#generator. Above is mentioned the starting string \"The night was\", but I chose\n",
        "#to use the starter, \"It all started when\"\n",
        "result01 = \"It all started when I was eight. You had to start somewhere, I was pretty serious. And I was pretty happy with how it went.You know, that was when we went to get help and I guess I think it really got started. I had just been playing golf, which was really early in my career. I was 15. I was 17 and they told me that the other day I looked in the mirror and I was like 'How can this guy look like he has all the flaws?' And it actually seemed like he had been playing for some time. I don't know where he got all the money for it or how he got all the money. Just that simple. If I had one moment in '67 when he was 25, I would have put it together. Not one more question from the media. All I know is, it was a little crazy. At the same time of playing golf that summer.Anyway, that summer I actually got my second shot in the game and I was on the court and we were talking about our first matchup, and I just said that my first shot was a great one, but a mistake. He hit it and it landed it. So I thought maybe one night I would put it together in the game but then later when I got to the second round, my second round shot, you know, I was like 'No. No, it isn't gonna work. I'm gonna have to deal\"\n",
        "\n",
        "#normally this is where the above methods are ran with given parameters through\n",
        "# the text generator that was downloaded in the first block.However, since we\n",
        "# we have used google collab, I have loaded the results from the AI link\n",
        "#directly to \"result 01\"\n",
        "print(result01)"
      ],
      "id": "9ceba77e",
      "execution_count": null,
      "outputs": [
        {
          "output_type": "stream",
          "name": "stdout",
          "text": [
            "It all started when I was eight. You had to start somewhere, I was pretty serious. And I was pretty happy with how it went.You know, that was when we went to get help and I guess I think it really got started. I had just been playing golf, which was really early in my career. I was 15. I was 17 and they told me that the other day I looked in the mirror and I was like 'How can this guy look like he has all the flaws?' And it actually seemed like he had been playing for some time. I don't know where he got all the money for it or how he got all the money. Just that simple. If I had one moment in '67 when he was 25, I would have put it together. Not one more question from the media. All I know is, it was a little crazy. At the same time of playing golf that summer.Anyway, that summer I actually got my second shot in the game and I was on the court and we were talking about our first matchup, and I just said that my first shot was a great one, but a mistake. He hit it and it landed it. So I thought maybe one night I would put it together in the game but then later when I got to the second round, my second round shot, you know, I was like 'No. No, it isn't gonna work. I'm gonna have to deal\n"
          ]
        }
      ]
    },
    {
      "cell_type": "markdown",
      "metadata": {
        "id": "333aa5bd"
      },
      "source": [
        "That wasn't bad, but it wasn't great either. You can see how these models can begin to falter.\n",
        "\n",
        "Let's try once more, this time setting `do_sample=True` to generate a different text sequence."
      ],
      "id": "333aa5bd"
    },
    {
      "cell_type": "code",
      "metadata": {
        "id": "f86f0d9d",
        "colab": {
          "base_uri": "https://localhost:8080/",
          "height": 195
        },
        "outputId": "f253ac71-4830-40fd-a22a-1fce9e96413f"
      },
      "source": [
        "#result02 = text_gen(prefix_text, max_length=50, do_sample=True)\n",
        "\n",
        "#Again here is another output from the the text generator but this time it is\n",
        "#different. In this situation, we set the \"do_sample\" Param. equal to true. This\n",
        "#is a transformer decoding method; The Idea is to turn off \"top K sampling\".When\n",
        "#top k sampling is on, the K most obvious next words will be filtered which will\n",
        "#redistribute the probability mass for each word\n",
        "\n",
        "#print(result02[0]['generated_text'])"
      ],
      "id": "f86f0d9d",
      "execution_count": null,
      "outputs": [
        {
          "output_type": "error",
          "ename": "NameError",
          "evalue": "ignored",
          "traceback": [
            "\u001b[0;31m---------------------------------------------------------------------------\u001b[0m",
            "\u001b[0;31mNameError\u001b[0m                                 Traceback (most recent call last)",
            "\u001b[0;32m<ipython-input-7-a0a819c374da>\u001b[0m in \u001b[0;36m<module>\u001b[0;34m()\u001b[0m\n\u001b[0;32m----> 1\u001b[0;31m \u001b[0mresult02\u001b[0m \u001b[0;34m=\u001b[0m \u001b[0mtext_gen\u001b[0m\u001b[0;34m(\u001b[0m\u001b[0mprefix_text\u001b[0m\u001b[0;34m,\u001b[0m \u001b[0mmax_length\u001b[0m\u001b[0;34m=\u001b[0m\u001b[0;36m50\u001b[0m\u001b[0;34m,\u001b[0m \u001b[0mdo_sample\u001b[0m\u001b[0;34m=\u001b[0m\u001b[0;32mTrue\u001b[0m\u001b[0;34m)\u001b[0m\u001b[0;34m\u001b[0m\u001b[0;34m\u001b[0m\u001b[0m\n\u001b[0m\u001b[1;32m      2\u001b[0m \u001b[0;34m\u001b[0m\u001b[0m\n\u001b[1;32m      3\u001b[0m \u001b[0mprint\u001b[0m\u001b[0;34m(\u001b[0m\u001b[0mresult02\u001b[0m\u001b[0;34m[\u001b[0m\u001b[0;36m0\u001b[0m\u001b[0;34m]\u001b[0m\u001b[0;34m[\u001b[0m\u001b[0;34m'generated_text'\u001b[0m\u001b[0;34m]\u001b[0m\u001b[0;34m)\u001b[0m\u001b[0;34m\u001b[0m\u001b[0;34m\u001b[0m\u001b[0m\n",
            "\u001b[0;31mNameError\u001b[0m: name 'text_gen' is not defined"
          ]
        }
      ]
    },
    {
      "cell_type": "markdown",
      "metadata": {
        "id": "9cbe58ca"
      },
      "source": [
        "### 4. Run your own example\n",
        "\n",
        "Now it's your turn to provide a starting sequence and generate some results.\n",
        "\n",
        "Again, if you would prefer not to download and run this code, then you can instead use [Deep AI's text generator demo online](https://deepai.org/machine-learning-model/text-generator).\n",
        "\n",
        "You will share the results of this in your [Self-Introduction post on Canvas](https://msudenver.instructure.com/courses/47963/discussion_topics/496954).\n",
        "\n",
        "If you want to demonstrate some of the biases that exist in language models please do so, but be sure to keep the discourse respectful and constructive."
      ],
      "id": "9cbe58ca"
    },
    {
      "cell_type": "code",
      "metadata": {
        "id": "c2ace7f2"
      },
      "source": [
        "# insert a short sequence of text of your own below\n",
        "your_prefix = \"It all started when\"\n",
        "\n",
        "# generate a set of tokens/words to complete your sequence\n",
        "\n",
        "#allows \"text-gen\" to run with given parameters. In this case the top-K sampling\n",
        "#is on because we set the do_sample to False\n",
        "#your_result = text_gen(your_prefix, max_length=50, do_sample=False)\n",
        "\n",
        "# print your results\n",
        "#print(your_result[0]['generated_text'])"
      ],
      "id": "c2ace7f2",
      "execution_count": null,
      "outputs": []
    },
    {
      "cell_type": "markdown",
      "metadata": {
        "id": "c5996f0f"
      },
      "source": [
        "We will dig more into these types of models as the semester progresses, but if you're curious and want to unpeel one more layer to see what's happening behind the scenes, then [this demostration by the Allen Institute](https://demo.allennlp.org/next-token-lm) is worth a look. In that demo they show the set of tokens/sequences that are suggested along with their probabilities."
      ],
      "id": "c5996f0f"
    },
    {
      "cell_type": "markdown",
      "metadata": {
        "id": "a6433758"
      },
      "source": [
        "## II. NLP Deep Learning Examples: Word Embeddings/Vectors\n",
        "\n",
        "Again, we will dig into the concept of word vectors much more later in the semester - both in how they are created as well as how we can use them to assist with modeling tasks. For now let's try and understand what they are by looking at how we can use them.\n",
        "\n",
        "### 1. Import and download necessary module and data\n",
        "\n",
        "We'll use the word vectors that Python module/library, \"[gensim](https://radimrehurek.com/gensim/intro.html)\" to download and use the [Word2vec](https://en.wikipedia.org/wiki/Word2vec) word vectors.\n",
        "\n",
        "Run only either the block with the `api.load` statement (to download w2v), or the `KeyedVectors.load` statement (to load the saved w2v)."
      ],
      "id": "a6433758"
    },
    {
      "cell_type": "code",
      "metadata": {
        "id": "15aeeb22",
        "colab": {
          "base_uri": "https://localhost:8080/",
          "height": 337
        },
        "outputId": "47c99351-a0c4-4dde-be60-a1b05b610f98"
      },
      "source": [
        "#in this block we have two different ways to DL\n",
        "#word vectors from \"Word2vec\". The path is loaded\n",
        "#along with the word vector itself\n",
        "\n",
        "#PATH = '/home/steve/data/models/'\n",
        "#W2V = 'w2v-google-news-300.wordvectors'\n",
        "\n",
        "#import gensim.downloader as api\n",
        "#wv = api.load('word2vec-google-news-300')\n",
        "#wv.save(PATH + W2V)\n",
        "# OR\n",
        "#from gensim.models import KeyedVectors\n",
        "#wv2 = KeyedVectors.load(PATH + W2V)\n",
        "\n"
      ],
      "id": "15aeeb22",
      "execution_count": null,
      "outputs": [
        {
          "output_type": "error",
          "ename": "FileNotFoundError",
          "evalue": "ignored",
          "traceback": [
            "\u001b[0;31m---------------------------------------------------------------------------\u001b[0m",
            "\u001b[0;31mFileNotFoundError\u001b[0m                         Traceback (most recent call last)",
            "\u001b[0;32m<ipython-input-8-e5cee576425c>\u001b[0m in \u001b[0;36m<module>\u001b[0;34m()\u001b[0m\n\u001b[1;32m      7\u001b[0m \u001b[0;31m# OR\u001b[0m\u001b[0;34m\u001b[0m\u001b[0;34m\u001b[0m\u001b[0;34m\u001b[0m\u001b[0m\n\u001b[1;32m      8\u001b[0m \u001b[0;32mfrom\u001b[0m \u001b[0mgensim\u001b[0m\u001b[0;34m.\u001b[0m\u001b[0mmodels\u001b[0m \u001b[0;32mimport\u001b[0m \u001b[0mKeyedVectors\u001b[0m\u001b[0;34m\u001b[0m\u001b[0;34m\u001b[0m\u001b[0m\n\u001b[0;32m----> 9\u001b[0;31m \u001b[0mwv2\u001b[0m \u001b[0;34m=\u001b[0m \u001b[0mKeyedVectors\u001b[0m\u001b[0;34m.\u001b[0m\u001b[0mload\u001b[0m\u001b[0;34m(\u001b[0m\u001b[0mPATH\u001b[0m \u001b[0;34m+\u001b[0m \u001b[0mW2V\u001b[0m\u001b[0;34m)\u001b[0m\u001b[0;34m\u001b[0m\u001b[0;34m\u001b[0m\u001b[0m\n\u001b[0m",
            "\u001b[0;32m/usr/local/lib/python3.7/dist-packages/gensim/models/keyedvectors.py\u001b[0m in \u001b[0;36mload\u001b[0;34m(cls, fname_or_handle, **kwargs)\u001b[0m\n\u001b[1;32m    210\u001b[0m     \u001b[0;34m@\u001b[0m\u001b[0mclassmethod\u001b[0m\u001b[0;34m\u001b[0m\u001b[0;34m\u001b[0m\u001b[0m\n\u001b[1;32m    211\u001b[0m     \u001b[0;32mdef\u001b[0m \u001b[0mload\u001b[0m\u001b[0;34m(\u001b[0m\u001b[0mcls\u001b[0m\u001b[0;34m,\u001b[0m \u001b[0mfname_or_handle\u001b[0m\u001b[0;34m,\u001b[0m \u001b[0;34m**\u001b[0m\u001b[0mkwargs\u001b[0m\u001b[0;34m)\u001b[0m\u001b[0;34m:\u001b[0m\u001b[0;34m\u001b[0m\u001b[0;34m\u001b[0m\u001b[0m\n\u001b[0;32m--> 212\u001b[0;31m         \u001b[0;32mreturn\u001b[0m \u001b[0msuper\u001b[0m\u001b[0;34m(\u001b[0m\u001b[0mBaseKeyedVectors\u001b[0m\u001b[0;34m,\u001b[0m \u001b[0mcls\u001b[0m\u001b[0;34m)\u001b[0m\u001b[0;34m.\u001b[0m\u001b[0mload\u001b[0m\u001b[0;34m(\u001b[0m\u001b[0mfname_or_handle\u001b[0m\u001b[0;34m,\u001b[0m \u001b[0;34m**\u001b[0m\u001b[0mkwargs\u001b[0m\u001b[0;34m)\u001b[0m\u001b[0;34m\u001b[0m\u001b[0;34m\u001b[0m\u001b[0m\n\u001b[0m\u001b[1;32m    213\u001b[0m \u001b[0;34m\u001b[0m\u001b[0m\n\u001b[1;32m    214\u001b[0m     \u001b[0;32mdef\u001b[0m \u001b[0msimilarity\u001b[0m\u001b[0;34m(\u001b[0m\u001b[0mself\u001b[0m\u001b[0;34m,\u001b[0m \u001b[0mentity1\u001b[0m\u001b[0;34m,\u001b[0m \u001b[0mentity2\u001b[0m\u001b[0;34m)\u001b[0m\u001b[0;34m:\u001b[0m\u001b[0;34m\u001b[0m\u001b[0;34m\u001b[0m\u001b[0m\n",
            "\u001b[0;32m/usr/local/lib/python3.7/dist-packages/gensim/utils.py\u001b[0m in \u001b[0;36mload\u001b[0;34m(cls, fname, mmap)\u001b[0m\n\u001b[1;32m    420\u001b[0m         \u001b[0mcompress\u001b[0m\u001b[0;34m,\u001b[0m \u001b[0msubname\u001b[0m \u001b[0;34m=\u001b[0m \u001b[0mSaveLoad\u001b[0m\u001b[0;34m.\u001b[0m\u001b[0m_adapt_by_suffix\u001b[0m\u001b[0;34m(\u001b[0m\u001b[0mfname\u001b[0m\u001b[0;34m)\u001b[0m\u001b[0;34m\u001b[0m\u001b[0;34m\u001b[0m\u001b[0m\n\u001b[1;32m    421\u001b[0m \u001b[0;34m\u001b[0m\u001b[0m\n\u001b[0;32m--> 422\u001b[0;31m         \u001b[0mobj\u001b[0m \u001b[0;34m=\u001b[0m \u001b[0munpickle\u001b[0m\u001b[0;34m(\u001b[0m\u001b[0mfname\u001b[0m\u001b[0;34m)\u001b[0m\u001b[0;34m\u001b[0m\u001b[0;34m\u001b[0m\u001b[0m\n\u001b[0m\u001b[1;32m    423\u001b[0m         \u001b[0mobj\u001b[0m\u001b[0;34m.\u001b[0m\u001b[0m_load_specials\u001b[0m\u001b[0;34m(\u001b[0m\u001b[0mfname\u001b[0m\u001b[0;34m,\u001b[0m \u001b[0mmmap\u001b[0m\u001b[0;34m,\u001b[0m \u001b[0mcompress\u001b[0m\u001b[0;34m,\u001b[0m \u001b[0msubname\u001b[0m\u001b[0;34m)\u001b[0m\u001b[0;34m\u001b[0m\u001b[0;34m\u001b[0m\u001b[0m\n\u001b[1;32m    424\u001b[0m         \u001b[0mlogger\u001b[0m\u001b[0;34m.\u001b[0m\u001b[0minfo\u001b[0m\u001b[0;34m(\u001b[0m\u001b[0;34m\"loaded %s\"\u001b[0m\u001b[0;34m,\u001b[0m \u001b[0mfname\u001b[0m\u001b[0;34m)\u001b[0m\u001b[0;34m\u001b[0m\u001b[0;34m\u001b[0m\u001b[0m\n",
            "\u001b[0;32m/usr/local/lib/python3.7/dist-packages/gensim/utils.py\u001b[0m in \u001b[0;36munpickle\u001b[0;34m(fname)\u001b[0m\n\u001b[1;32m   1356\u001b[0m \u001b[0;34m\u001b[0m\u001b[0m\n\u001b[1;32m   1357\u001b[0m     \"\"\"\n\u001b[0;32m-> 1358\u001b[0;31m     \u001b[0;32mwith\u001b[0m \u001b[0msmart_open\u001b[0m\u001b[0;34m(\u001b[0m\u001b[0mfname\u001b[0m\u001b[0;34m,\u001b[0m \u001b[0;34m'rb'\u001b[0m\u001b[0;34m)\u001b[0m \u001b[0;32mas\u001b[0m \u001b[0mf\u001b[0m\u001b[0;34m:\u001b[0m\u001b[0;34m\u001b[0m\u001b[0;34m\u001b[0m\u001b[0m\n\u001b[0m\u001b[1;32m   1359\u001b[0m         \u001b[0;31m# Because of loading from S3 load can't be used (missing readline in smart_open)\u001b[0m\u001b[0;34m\u001b[0m\u001b[0;34m\u001b[0m\u001b[0;34m\u001b[0m\u001b[0m\n\u001b[1;32m   1360\u001b[0m         \u001b[0;32mif\u001b[0m \u001b[0msys\u001b[0m\u001b[0;34m.\u001b[0m\u001b[0mversion_info\u001b[0m \u001b[0;34m>\u001b[0m \u001b[0;34m(\u001b[0m\u001b[0;36m3\u001b[0m\u001b[0;34m,\u001b[0m \u001b[0;36m0\u001b[0m\u001b[0;34m)\u001b[0m\u001b[0;34m:\u001b[0m\u001b[0;34m\u001b[0m\u001b[0;34m\u001b[0m\u001b[0m\n",
            "\u001b[0;32m/usr/local/lib/python3.7/dist-packages/smart_open/smart_open_lib.py\u001b[0m in \u001b[0;36msmart_open\u001b[0;34m(***failed resolving arguments***)\u001b[0m\n\u001b[1;32m    496\u001b[0m     \u001b[0mignore_ext\u001b[0m \u001b[0;34m=\u001b[0m \u001b[0mignore_extension\u001b[0m\u001b[0;34m\u001b[0m\u001b[0;34m\u001b[0m\u001b[0m\n\u001b[1;32m    497\u001b[0m     \u001b[0;32mdel\u001b[0m \u001b[0mkwargs\u001b[0m\u001b[0;34m,\u001b[0m \u001b[0murl\u001b[0m\u001b[0;34m,\u001b[0m \u001b[0mmessage\u001b[0m\u001b[0;34m,\u001b[0m \u001b[0mignore_extension\u001b[0m\u001b[0;34m\u001b[0m\u001b[0;34m\u001b[0m\u001b[0m\n\u001b[0;32m--> 498\u001b[0;31m     \u001b[0;32mreturn\u001b[0m \u001b[0mopen\u001b[0m\u001b[0;34m(\u001b[0m\u001b[0;34m**\u001b[0m\u001b[0mlocals\u001b[0m\u001b[0;34m(\u001b[0m\u001b[0;34m)\u001b[0m\u001b[0;34m)\u001b[0m\u001b[0;34m\u001b[0m\u001b[0;34m\u001b[0m\u001b[0m\n\u001b[0m\u001b[1;32m    499\u001b[0m \u001b[0;34m\u001b[0m\u001b[0m\n\u001b[1;32m    500\u001b[0m \u001b[0;34m\u001b[0m\u001b[0m\n",
            "\u001b[0;32m/usr/local/lib/python3.7/dist-packages/smart_open/smart_open_lib.py\u001b[0m in \u001b[0;36mopen\u001b[0;34m(uri, mode, buffering, encoding, errors, newline, closefd, opener, ignore_ext, compression, transport_params)\u001b[0m\n\u001b[1;32m    193\u001b[0m         \u001b[0mencoding\u001b[0m\u001b[0;34m=\u001b[0m\u001b[0mencoding\u001b[0m\u001b[0;34m,\u001b[0m\u001b[0;34m\u001b[0m\u001b[0;34m\u001b[0m\u001b[0m\n\u001b[1;32m    194\u001b[0m         \u001b[0merrors\u001b[0m\u001b[0;34m=\u001b[0m\u001b[0merrors\u001b[0m\u001b[0;34m,\u001b[0m\u001b[0;34m\u001b[0m\u001b[0;34m\u001b[0m\u001b[0m\n\u001b[0;32m--> 195\u001b[0;31m         \u001b[0mnewline\u001b[0m\u001b[0;34m=\u001b[0m\u001b[0mnewline\u001b[0m\u001b[0;34m,\u001b[0m\u001b[0;34m\u001b[0m\u001b[0;34m\u001b[0m\u001b[0m\n\u001b[0m\u001b[1;32m    196\u001b[0m     )\n\u001b[1;32m    197\u001b[0m     \u001b[0;32mif\u001b[0m \u001b[0mfobj\u001b[0m \u001b[0;32mis\u001b[0m \u001b[0;32mnot\u001b[0m \u001b[0;32mNone\u001b[0m\u001b[0;34m:\u001b[0m\u001b[0;34m\u001b[0m\u001b[0;34m\u001b[0m\u001b[0m\n",
            "\u001b[0;32m/usr/local/lib/python3.7/dist-packages/smart_open/smart_open_lib.py\u001b[0m in \u001b[0;36m_shortcut_open\u001b[0;34m(uri, mode, compression, buffering, encoding, errors, newline)\u001b[0m\n\u001b[1;32m    359\u001b[0m         \u001b[0mopen_kwargs\u001b[0m\u001b[0;34m[\u001b[0m\u001b[0;34m'errors'\u001b[0m\u001b[0;34m]\u001b[0m \u001b[0;34m=\u001b[0m \u001b[0merrors\u001b[0m\u001b[0;34m\u001b[0m\u001b[0;34m\u001b[0m\u001b[0m\n\u001b[1;32m    360\u001b[0m \u001b[0;34m\u001b[0m\u001b[0m\n\u001b[0;32m--> 361\u001b[0;31m     \u001b[0;32mreturn\u001b[0m \u001b[0m_builtin_open\u001b[0m\u001b[0;34m(\u001b[0m\u001b[0mlocal_path\u001b[0m\u001b[0;34m,\u001b[0m \u001b[0mmode\u001b[0m\u001b[0;34m,\u001b[0m \u001b[0mbuffering\u001b[0m\u001b[0;34m=\u001b[0m\u001b[0mbuffering\u001b[0m\u001b[0;34m,\u001b[0m \u001b[0;34m**\u001b[0m\u001b[0mopen_kwargs\u001b[0m\u001b[0;34m)\u001b[0m\u001b[0;34m\u001b[0m\u001b[0;34m\u001b[0m\u001b[0m\n\u001b[0m\u001b[1;32m    362\u001b[0m \u001b[0;34m\u001b[0m\u001b[0m\n\u001b[1;32m    363\u001b[0m \u001b[0;34m\u001b[0m\u001b[0m\n",
            "\u001b[0;31mFileNotFoundError\u001b[0m: [Errno 2] No such file or directory: '/home/steve/data/models/w2v-google-news-300.wordvectors'"
          ]
        }
      ]
    },
    {
      "cell_type": "markdown",
      "metadata": {
        "id": "c6cc7a70"
      },
      "source": [
        "### 2. Examine a Word Vector\n",
        "\n",
        "Now let's look at a vector for the word, \"computer\".\n",
        "\n",
        "What does the vector look like?, How large is it?, What do you think are similar words?\n",
        "\n",
        "And, how do we think about similarity between word vectors? That is, how do we measure it?"
      ],
      "id": "c6cc7a70"
    },
    {
      "cell_type": "code",
      "metadata": {
        "id": "30a53b70",
        "colab": {
          "base_uri": "https://localhost:8080/",
          "height": 179
        },
        "outputId": "883be239-6064-4efa-d5cd-0826ee26e414"
      },
      "source": [
        "# retrieve the word vector for 'computer'\n",
        "\n",
        "#these word vectors are close together in regards to vector space\n",
        "#based on proximity of value to the other words. Consequently,\n",
        "#words with more dissimilar values are further away from eachother.\n",
        "\n",
        "#In this particular line below the word word \"Computer\" is added\n",
        "#to the word vector and assigned a value rounded to 3 places.\n",
        "wv['computer'].round(3)"
      ],
      "id": "30a53b70",
      "execution_count": null,
      "outputs": [
        {
          "output_type": "error",
          "ename": "NameError",
          "evalue": "ignored",
          "traceback": [
            "\u001b[0;31m---------------------------------------------------------------------------\u001b[0m",
            "\u001b[0;31mNameError\u001b[0m                                 Traceback (most recent call last)",
            "\u001b[0;32m<ipython-input-9-b489a5dc9b46>\u001b[0m in \u001b[0;36m<module>\u001b[0;34m()\u001b[0m\n\u001b[1;32m      1\u001b[0m \u001b[0;31m# retrieve the word vector for 'computer'\u001b[0m\u001b[0;34m\u001b[0m\u001b[0;34m\u001b[0m\u001b[0;34m\u001b[0m\u001b[0m\n\u001b[0;32m----> 2\u001b[0;31m \u001b[0mwv\u001b[0m\u001b[0;34m[\u001b[0m\u001b[0;34m'computer'\u001b[0m\u001b[0;34m]\u001b[0m\u001b[0;34m.\u001b[0m\u001b[0mround\u001b[0m\u001b[0;34m(\u001b[0m\u001b[0;36m3\u001b[0m\u001b[0;34m)\u001b[0m\u001b[0;34m\u001b[0m\u001b[0;34m\u001b[0m\u001b[0m\n\u001b[0m",
            "\u001b[0;31mNameError\u001b[0m: name 'wv' is not defined"
          ]
        }
      ]
    },
    {
      "cell_type": "code",
      "metadata": {
        "id": "f11027ea"
      },
      "source": [
        "# retrieve the 10 word (vectors) most similar to 'computer'\n",
        "\n",
        "#vector is lookiing for top 10 words most similar in value\n",
        "#to the word \"computer\"\n",
        "wv.most_similar('computer', topn=10)"
      ],
      "id": "f11027ea",
      "execution_count": null,
      "outputs": []
    },
    {
      "cell_type": "markdown",
      "metadata": {
        "id": "95358f0a"
      },
      "source": [
        "### 3. Math with Words\n",
        "\n",
        "Just as we can with any type of number/vector, word vectors can be used in mathematical operations. Admittedly, it can be abstract to think about words as mathematical entities, so take a second to think about what this might look like, and what it might mean.\n",
        "\n",
        "The classic example always given here is to begin with the word (vector) \"_king_\", subtract the word (vector) \"_man_\", and then add word (vector) \"_woman_\".\n",
        "\n",
        "If we look at the resulting vector, which word vector will be most similar to it?"
      ],
      "id": "95358f0a"
    },
    {
      "cell_type": "code",
      "metadata": {
        "id": "5a7fdad5",
        "colab": {
          "base_uri": "https://localhost:8080/",
          "height": 162
        },
        "outputId": "a6f4d0c7-6bc3-4848-fea8-84c273d545c9"
      },
      "source": [
        "#interestingly we can see how the laws of vector algebra can be directly applied\n",
        "#to this situation. In doing so, we will gain insight into the logic of the\n",
        "#the method, \"most-similar\". Params, are passed in with assigned flag values\n",
        "#which act as natural operands. Specifically if we assign the words, man, woman,\n",
        "#and king a vector posistion we will also see that if Man = vA, and woman = vB,\n",
        "#king = vAC, while Queen = vBC there is another vector(lets call it\n",
        "# Crown = vC) and by the laws of vectors, vAC-vA+vB=vBC whch equates to:\n",
        "#king-man+woman=queen.\n",
        "\n",
        "wv.most_similar(positive=['king', 'woman'], negative=['man'], topn=5)\n"
      ],
      "id": "5a7fdad5",
      "execution_count": null,
      "outputs": [
        {
          "output_type": "error",
          "ename": "NameError",
          "evalue": "ignored",
          "traceback": [
            "\u001b[0;31m---------------------------------------------------------------------------\u001b[0m",
            "\u001b[0;31mNameError\u001b[0m                                 Traceback (most recent call last)",
            "\u001b[0;32m<ipython-input-10-549031d16771>\u001b[0m in \u001b[0;36m<module>\u001b[0;34m()\u001b[0m\n\u001b[0;32m----> 1\u001b[0;31m \u001b[0mwv\u001b[0m\u001b[0;34m.\u001b[0m\u001b[0mmost_similar\u001b[0m\u001b[0;34m(\u001b[0m\u001b[0mpositive\u001b[0m\u001b[0;34m=\u001b[0m\u001b[0;34m[\u001b[0m\u001b[0;34m'king'\u001b[0m\u001b[0;34m,\u001b[0m \u001b[0;34m'woman'\u001b[0m\u001b[0;34m]\u001b[0m\u001b[0;34m,\u001b[0m \u001b[0mnegative\u001b[0m\u001b[0;34m=\u001b[0m\u001b[0;34m[\u001b[0m\u001b[0;34m'man'\u001b[0m\u001b[0;34m]\u001b[0m\u001b[0;34m,\u001b[0m \u001b[0mtopn\u001b[0m\u001b[0;34m=\u001b[0m\u001b[0;36m5\u001b[0m\u001b[0;34m)\u001b[0m\u001b[0;34m\u001b[0m\u001b[0;34m\u001b[0m\u001b[0m\n\u001b[0m",
            "\u001b[0;31mNameError\u001b[0m: name 'wv' is not defined"
          ]
        }
      ]
    },
    {
      "cell_type": "markdown",
      "metadata": {
        "id": "f7c9d6f8"
      },
      "source": [
        "The word vectors we have been looking at are 300 elements long. There are other versions of word vectors that have been created. Below is an image of what the vectors in the _king - man + woman_ example look like using word vectors that are 50 elements in length (blue values are close to -1 while red values are close to +1).\n",
        "\n",
        "<img src=\"https://github.com/MSU-CS39AA/notebook-1-sbowma15/blob/main/images/w2v_vec_arithmetic.png?raw=1\" width=\"697\" height=\"349\">"
      ],
      "id": "f7c9d6f8"
    },
    {
      "cell_type": "markdown",
      "metadata": {
        "id": "b0fd6588"
      },
      "source": [
        "### 4. Run your own example\n",
        "\n",
        "Now it's your turn to try out word vectors. __If you are running this notebook locally on your own system, or if you are have the store on your online platform (e.g. Colab), then you can do so in the cells above. If not, then comment out the cells above and use one of the many online demos available__ (e.g. [Semantic Calculator demo](http://vectors.nlpl.eu/explore/embeddings/en/calculator/))."
      ],
      "id": "b0fd6588"
    },
    {
      "cell_type": "markdown",
      "metadata": {
        "id": "392fca6d"
      },
      "source": [
        "## III. Python (and other Tools)\n",
        "\n",
        "Naturally, we will be using Python for this class. Python was originally created (~30 yrs ago) with the intention of being easy to learn, and thus allowing for code to be written quickly and easily read by others. Today it is one of the most widely used programming languages and the most-used when it comes to Data Science and Machine Learning. If you have never used Python before, don't worry, you will be able to pick it up as we go.\n",
        "\n",
        "In addition to Python there are a slew of other tools we'll be using that extend the functionality of Python.\n",
        "\n",
        "Here are the main ones:\n",
        "\n",
        "* pandas\n",
        "* numpy\n",
        "* scikit learn\n",
        "* jupyter\n",
        "* pytorch\n",
        "\n",
        "We will be using online servers such as [Google Colab](https://colab.research.google.com), [Kaggle](https://www.kaggle.com), [Gradient](https://gradient.paperspace.com), etc. when it is more convenient to do so (e.g. for more computational intensive tasks), so it's not necessary to install all of the above right this moment. However, it is recommended that you install Python on your local machine relatively soon, and that you do so using [Anaconda](https://www.anaconda.com/products/individual) as it comes with the first four items listed above. Once that is installed then [PyTorch](https://pytorch.org) is quick to install as well.  "
      ],
      "id": "392fca6d"
    },
    {
      "cell_type": "markdown",
      "metadata": {
        "id": "ccf70933"
      },
      "source": [
        "### 1. Install Anaconda\n",
        "\n",
        "Go to [https://www.anaconda.com/products/individual]() to download and install Anaconda. Most likely the default configuration will be fine.\n",
        "\n",
        "You can confirm the installation and see the configuration by opening a terminal and running: `$ conda info`.\n",
        "\n",
        "There you should see version 3.x for Python (this can also be confirmed by running `$ python --version`)."
      ],
      "id": "ccf70933"
    },
    {
      "cell_type": "markdown",
      "metadata": {
        "id": "84a6545f"
      },
      "source": [
        "### 2. Hello World w/ Python\n",
        "\n",
        "Although it is not very interesting, let's begin with Python by running the usual hello world program.\n",
        "\n",
        "Recall that we can run Python either in interactive mode or with a Python program file (w/ extension .py). Since Python is an interpreted language there is no compiler.\n",
        "\n",
        "In interactive mode, we simply start the Python interpreter with `$ python`, and can then begin typing Python code. For the hello world program all we need to type is `print('Hello World')`.\n",
        "\n",
        "For a standalone Pythom program, we can simply open up a new document with our favorite text editor, input the single print statement above, then save it as _helloworld.py_. We can then run this at the command line with `$ python helloworld.py`.\n",
        "\n",
        "Although we can run Python programs without explicitly defining a _main_ function/procedure, it is typically the case that we will want to define one. To define a function we'll use the `def` keyword. Let's call this program `helloworld2.py`. The contents of this program/file would be:\n",
        "\n",
        "\n",
        "    def printHelloWorld():\n",
        "        print(\"Hello World\")\n",
        "\n",
        "    def main():\n",
        "        printHelloWorld()\n",
        "\n",
        "    if __name__ == `__main__`:\n",
        "        main()\n",
        "\n",
        "\n",
        "Notice that we define a function to print our desired output, `printHelloWorld()`. Suppose we were creating a new program but we wanted to use this same function. We can also import our\n",
        "`helloworld2.py` program into a new program, say, `helloworld_app.py` and load and use function from there.\n",
        "\n",
        "Here is what `helloworld_app.py` might look like:\n",
        "\n",
        "    import helloworld2\n",
        "\n",
        "    def main():\n",
        "        helloworld2.printHelloWorld()\n",
        "\n",
        "    if __name__ == `__main__`:\n",
        "        main()\n",
        "\n",
        "We will pick up more of this as we go, but if you are curious about how `main` works in Python, or about defining/importing modules, check out the following:\n",
        "\n",
        "* [Defining main functions in Python (realpython.com)](https://realpython.com/python-main-function/)\n",
        "* [Python Modules (on python.org)](https://docs.python.org/3/tutorial/modules.html)"
      ],
      "id": "84a6545f"
    },
    {
      "cell_type": "markdown",
      "metadata": {
        "id": "9a039d44"
      },
      "source": [
        "### 3. Python Data Types\n",
        "\n",
        "Python is a dynamically-typed language, which means that we don't need to explicitly state the data type when declaring an instance of a variable.\n",
        "\n",
        "For example, `x = 5`, will create an instance of a variable named, `x`, which will have the value of `5`. What data type do you suppose this variable will have?\n",
        "\n",
        "Now suppose that `y = 4.2` is input. What data type will this variable have?\n",
        "\n",
        "To check the data type of any variable, e.g. `x`, use `type(x)`. The following jupyter notebook cell provides an example."
      ],
      "id": "9a039d44"
    },
    {
      "cell_type": "code",
      "metadata": {
        "id": "99e0baf9",
        "colab": {
          "base_uri": "https://localhost:8080/"
        },
        "outputId": "00bd2e48-84bf-4b36-e30d-e3e3237637e4"
      },
      "source": [
        "x = 5\n",
        "print(\"The data type of x is:\", type(x))"
      ],
      "id": "99e0baf9",
      "execution_count": null,
      "outputs": [
        {
          "output_type": "stream",
          "name": "stdout",
          "text": [
            "The data type of x is: <class 'int'>\n"
          ]
        }
      ]
    },
    {
      "cell_type": "markdown",
      "metadata": {
        "id": "5872f35e"
      },
      "source": [
        "Running the following line will confirm that x is in fact the expected data type, an `int`."
      ],
      "id": "5872f35e"
    },
    {
      "cell_type": "code",
      "metadata": {
        "id": "b381780c",
        "colab": {
          "base_uri": "https://localhost:8080/"
        },
        "outputId": "718bb431-436b-4089-d6fe-e26b814e4d8d"
      },
      "source": [
        "type(x) == type(int())"
      ],
      "id": "b381780c",
      "execution_count": null,
      "outputs": [
        {
          "output_type": "execute_result",
          "data": {
            "text/plain": [
              "True"
            ]
          },
          "metadata": {},
          "execution_count": 16
        }
      ]
    },
    {
      "cell_type": "markdown",
      "metadata": {
        "id": "0eec695b"
      },
      "source": [
        "Let's now try to create a float and string in the following cell.\n",
        "\n",
        "Complete the following cell by assiging a floating point value to $y$ then use `type()` to confirm $y$'s data type."
      ],
      "id": "0eec695b"
    },
    {
      "cell_type": "code",
      "metadata": {
        "id": "89b06738",
        "colab": {
          "base_uri": "https://localhost:8080/"
        },
        "outputId": "0543a873-8b64-40dc-fa63-cb24f75c40f4"
      },
      "source": [
        "y = 1.1\n",
        "\n",
        "if type(y) == type(float()):\n",
        "    print(\"y is a float data type\")\n",
        "else:\n",
        "    print(\"y is NOT a float data type\")"
      ],
      "id": "89b06738",
      "execution_count": null,
      "outputs": [
        {
          "output_type": "stream",
          "name": "stdout",
          "text": [
            "y is a float data type\n"
          ]
        }
      ]
    },
    {
      "cell_type": "code",
      "metadata": {
        "id": "5d8d4ea0",
        "colab": {
          "base_uri": "https://localhost:8080/"
        },
        "outputId": "275608f6-5db4-4e76-a60f-69778cf2d1a1"
      },
      "source": [
        "# Confirm that y is a float\n",
        "y= 1.1\n",
        "if type(y) == type(float()):\n",
        "    print(\"y is a float data type\")\n",
        "else:\n",
        "    print(\"y is NOT a float data type\")"
      ],
      "id": "5d8d4ea0",
      "execution_count": null,
      "outputs": [
        {
          "output_type": "stream",
          "name": "stdout",
          "text": [
            "y is a float data type\n"
          ]
        }
      ]
    },
    {
      "cell_type": "markdown",
      "metadata": {
        "id": "8a95f23a"
      },
      "source": [
        "Do the same but now complete the following cell by assigning a str(ing) value to $z$ then use `type()` to confirm its data type."
      ],
      "id": "8a95f23a"
    },
    {
      "cell_type": "code",
      "metadata": {
        "id": "58a520a1",
        "colab": {
          "base_uri": "https://localhost:8080/"
        },
        "outputId": "d4f94e8e-358f-46de-da16-712fe1e54f99"
      },
      "source": [
        "z = \"# add something here so that z is a string\"\n",
        "\n",
        "# confirm that this is a float with the following print statement\n",
        "print(\"The data type of z is:\"+z)"
      ],
      "id": "58a520a1",
      "execution_count": null,
      "outputs": [
        {
          "output_type": "stream",
          "name": "stdout",
          "text": [
            "The data type of z is:# add something here so that z is a string\n"
          ]
        }
      ]
    },
    {
      "cell_type": "markdown",
      "metadata": {
        "id": "6af472bd"
      },
      "source": [
        "For more practice on variables and types do this short tutorial at learnpython.org:\n",
        "* [https://www.learnpython.org/en/Variables_and_Types]()"
      ],
      "id": "6af472bd"
    },
    {
      "cell_type": "markdown",
      "metadata": {
        "id": "e38ad515"
      },
      "source": [
        "### 4. Python Collection/Container Data Types\n",
        "\n",
        "In nearly any computer program we will often need to employ data types that are able to hold a set of values, i.e. _collection_ data types.\n",
        "\n",
        "The most common of these is referred to as an __array__ in most languages, although in Python it is simply called a __list__.\n",
        "\n",
        "An example of a Python list is:"
      ],
      "id": "e38ad515"
    },
    {
      "cell_type": "code",
      "metadata": {
        "id": "07028fdb"
      },
      "source": [
        "list1 = [4, 8, 3, 17, 6]"
      ],
      "id": "07028fdb",
      "execution_count": null,
      "outputs": []
    },
    {
      "cell_type": "markdown",
      "metadata": {
        "id": "7868828f"
      },
      "source": [
        "Notice that the data type is a list, but that the data types for any one given element is an integer:"
      ],
      "id": "7868828f"
    },
    {
      "cell_type": "code",
      "metadata": {
        "id": "c405d275"
      },
      "source": [
        "print(\"The data type of list1 is:\", type(list1))\n",
        "\n",
        "print(\"The data type for the first element in list1 is:\", type(list1[0]))"
      ],
      "id": "c405d275",
      "execution_count": null,
      "outputs": []
    },
    {
      "cell_type": "markdown",
      "metadata": {
        "id": "0ee3505a"
      },
      "source": [
        "Not only is Python dynamically typed, but it very flexible when it comes to collection data types.\n",
        "\n",
        "A Python list can hold any type of variable, and even different types at the same time."
      ],
      "id": "0ee3505a"
    },
    {
      "cell_type": "code",
      "metadata": {
        "id": "f71a119a"
      },
      "source": [
        "list2 = [4, 3.72, 'hello']\n",
        "\n",
        "print(\"The data type for the first element in list2 is:\", type(list2[0]))\n",
        "\n",
        "print(\"The data type for the second element in list2 is:\", type(list2[1]))\n",
        "\n",
        "print(\"The data type for the third element in list2 is:\", type(list2[2]))"
      ],
      "id": "f71a119a",
      "execution_count": null,
      "outputs": []
    },
    {
      "cell_type": "markdown",
      "metadata": {
        "id": "9a25c61f"
      },
      "source": [
        "There are several other collection data types in Python, each with their own unique advantages/disadvantages. They are:\n",
        "\n",
        "* list\n",
        "* tuple\n",
        "* dictionary\n",
        "* str(ing)\n",
        "* set\n",
        "\n",
        "It may come as a surprise that a string object is also a collection data type but you can confirm this by creating a string then using square brackets to access an individual character. Try doing so in the cell below."
      ],
      "id": "9a25c61f"
    },
    {
      "cell_type": "code",
      "metadata": {
        "id": "e2ba5e24"
      },
      "source": [
        "my_str = 'Hello World'\n",
        "\n",
        "print(\"The second character in my_str is:\", ..."
      ],
      "id": "e2ba5e24",
      "execution_count": null,
      "outputs": []
    },
    {
      "cell_type": "markdown",
      "metadata": {
        "id": "a1cbddff"
      },
      "source": [
        "For more practice with lists, strings, or dictionaries, check out any of the following brief tutorials at learnpython.org.\n",
        "* [https://www.learnpython.org/en/Lists]()\n",
        "* [https://www.learnpython.org/en/Basic_String_Operations]()\n",
        "* [https://www.learnpython.org/en/Dictionaries]()"
      ],
      "id": "a1cbddff"
    },
    {
      "cell_type": "markdown",
      "metadata": {
        "id": "fc5fde25"
      },
      "source": [
        "### 5. Python is Object Oriented\n",
        "\n",
        "Python is based on an object-oriented programming paradigm. That is, every variable that you declare in Python is an object (i.e. an instance of a class). Even the primitive data types have their own methods. Here is an example of a str(ing) object's `islower()` method."
      ],
      "id": "fc5fde25"
    },
    {
      "cell_type": "code",
      "metadata": {
        "id": "fc1ff63f"
      },
      "source": [
        "my_str.islower()"
      ],
      "id": "fc1ff63f",
      "execution_count": null,
      "outputs": []
    },
    {
      "cell_type": "markdown",
      "metadata": {
        "id": "02eb3494"
      },
      "source": [
        "That returns false since the entire string is not lower case.\n",
        "\n",
        "We can convert it to all lower case using another str(ing) method though, `lower()`."
      ],
      "id": "02eb3494"
    },
    {
      "cell_type": "code",
      "metadata": {
        "id": "842e3ce5"
      },
      "source": [
        "my_str.lower()"
      ],
      "id": "842e3ce5",
      "execution_count": null,
      "outputs": []
    },
    {
      "cell_type": "markdown",
      "metadata": {
        "id": "db1d82b3"
      },
      "source": [
        "### 6. Defining Classes"
      ],
      "id": "db1d82b3"
    },
    {
      "cell_type": "markdown",
      "metadata": {
        "id": "72684814"
      },
      "source": [
        "Although Python is object oriented itself, it is possible to follow other programming paradigms (e.g. functional programming). For this course it will be extremely helpful if we understand how Python classes work, and how to create our own.\n",
        "\n",
        "Let's define a basic class now. Take a look at the following class and try to idenfify some of elements of a class such as:\n",
        "* constructor\n",
        "* attribute/field\n",
        "* method\n",
        "* accessor/getter method\n",
        "* mutator/setter method"
      ],
      "id": "72684814"
    },
    {
      "cell_type": "code",
      "metadata": {
        "id": "ec92f2a3"
      },
      "source": [
        "class Automobile:\n",
        "\n",
        "    def __init__(self):\n",
        "        self.color = None\n",
        "        self.transmission = 'automatic'\n",
        "\n",
        "    def setColor(self):\n",
        "        return self.color\n",
        "\n",
        "    def getColor(self, new_color):\n",
        "        self.color = new_color\n",
        "\n",
        "    def getTransmission(self):\n",
        "        return self.transmission\n"
      ],
      "id": "ec92f2a3",
      "execution_count": null,
      "outputs": []
    },
    {
      "cell_type": "markdown",
      "metadata": {
        "id": "edb8de15"
      },
      "source": [
        "Now, let's create an instance of an automobile."
      ],
      "id": "edb8de15"
    },
    {
      "cell_type": "code",
      "metadata": {
        "id": "9b545d17"
      },
      "source": [
        "my_auto = Automobile()"
      ],
      "id": "9b545d17",
      "execution_count": null,
      "outputs": []
    },
    {
      "cell_type": "markdown",
      "metadata": {
        "id": "f65d7bf2"
      },
      "source": [
        "When we created `my_auto`, what happened exactly? Which, if any, of the methods were called?\n",
        "\n",
        "Now let's print out the transmission of `my_auto`."
      ],
      "id": "f65d7bf2"
    },
    {
      "cell_type": "code",
      "metadata": {
        "id": "ea2fda90"
      },
      "source": [
        "print(f\"my_auto has an {my_auto.getTransmission()} transmission\")"
      ],
      "id": "ea2fda90",
      "execution_count": null,
      "outputs": []
    },
    {
      "cell_type": "markdown",
      "metadata": {
        "id": "3e589661"
      },
      "source": [
        "Next let's try adding a method, `setTransmission(new_transmission)`, to the class definition (above), and then use it to change to a _manual_ transmission. Then run the cell above again to print the transmission type."
      ],
      "id": "3e589661"
    },
    {
      "cell_type": "markdown",
      "metadata": {
        "id": "bab0e886"
      },
      "source": [
        "You may also be wondering about the double underscores surrounding the constructor. There are many methods/functions that already exist in Python but that can be overridden to allow us to customize them as needed. These double-underscore methods are called _dunder_, or _magic_ methods.\n",
        "\n",
        "One such example is the `__str__` dunder method. Every object in Python has a default way of presenting itself when it it printed. Here is what an instance of our current Automobile class looks like when we try to print it:"
      ],
      "id": "bab0e886"
    },
    {
      "cell_type": "code",
      "metadata": {
        "id": "6df37162"
      },
      "source": [
        "print(my_auto)"
      ],
      "id": "6df37162",
      "execution_count": null,
      "outputs": []
    },
    {
      "cell_type": "markdown",
      "metadata": {
        "id": "f8cc5e14"
      },
      "source": [
        "Depending on our class and how we will use it, that may not be a very helpful way to print an instance.\n",
        "\n",
        "Let's try overriding the `__str__` method so that the string representation of an Automobile object is more informative. Then create another instance of Automobile and try printing it again."
      ],
      "id": "f8cc5e14"
    },
    {
      "cell_type": "code",
      "metadata": {
        "id": "e56c9b8f"
      },
      "source": [
        "class Automobile:\n",
        "\n",
        "    def __init__(self):\n",
        "        self.color = None\n",
        "        self.transmission = 'automatic'\n",
        "\n",
        "    def getColor(self):\n",
        "        return self.color\n",
        "\n",
        "    def setColor(self, new_color):\n",
        "        self.color = new_color\n",
        "\n",
        "    def getTransmission(self):\n",
        "        return self.transmission\n",
        "\n",
        "    def __str__(self):\n",
        "        return f\"Autombile instance has: \\n  color = {self.color} \\n  transmission = {self.transmission}\"\n",
        "\n",
        "\n",
        "my_auto2 = Automobile()\n",
        "my_auto2.setColor(\"blue\")\n",
        "print(my_auto2)"
      ],
      "id": "e56c9b8f",
      "execution_count": null,
      "outputs": []
    },
    {
      "cell_type": "markdown",
      "metadata": {
        "id": "9af6534c"
      },
      "source": [
        "We will be using and defining many more classes, and also several other dunder methods such as `__eq__` and `__add__` to allow us to define how we want to compare or add to instances of the same class (respectively), and `__getitem__` and `__setitem__` to index into our own collection/container objects."
      ],
      "id": "9af6534c"
    },
    {
      "cell_type": "markdown",
      "metadata": {
        "id": "2ecf9f3c"
      },
      "source": [
        "### 7. Other Tools\n",
        "\n",
        "We will get to some of the other tools in our next notebook but before we complete this one we should mention the tool we have already been using this entire time, which is a _Jupyter Notebook_.\n",
        "\n",
        "Jupyter Notebooks can be thought of as an interactive or research IDE and are typically what Data Scientists and Machine Learning Engineers rely on to develop models and algorithms (but not to productize their models/pipelines).\n",
        "\n",
        "A Jupyter notebook is often called a _Python notebook_, or simply a _notebook_, and will have an _.ipynb_  extension. Jupyter notebooks are easy to run but it's helpful to remember that they require both a client and server process to be running. Generally a notebook is run through a web browser (the __client__) and requires that a Python process to be running in the background or remotely (the __server__). We'll see and use notebooks in a variety of ways so do not worry just yet about being familiar with all of the various ways to create/run a notebook. Just know that if you do encounter any issues, it's likely a simple issue with the behind-the-scenes server process.\n",
        "\n",
        "We will be getting used to using Jupyter Notebooks during the next few classes so there will be plenty of time to ask me and/or your neighbor questions.\n",
        "\n",
        "For now, the most helpful shortcuts to know are:\n",
        "* shift + enter: run the currently selected cell\n",
        "* enter: enter/begin edit mode in the currently selected cell\n",
        "* escape: stop/exit edit mode (to make navigating between cells easier)\n",
        "* up/down arrows: navigate to the cell above/below when not in edit mode\n",
        "\n",
        "For a reference on Jupyter Notebooks see this excellent documentation at realpython.com:\n",
        "\n",
        "* [Jupyter Notebook: An Introduction](https://realpython.com/jupyter-notebook-introduction/)\n"
      ],
      "id": "2ecf9f3c"
    },
    {
      "cell_type": "markdown",
      "metadata": {
        "id": "48e43186"
      },
      "source": [
        "In our next notebook we will look at some of the other tools we will use on top of Python (e.g. numpy, scikit learn, pytorch, etc.).\n",
        "\n",
        "If you would like to dig deeper into anything covered above, all of the references cited are below as well some excellent (and entertaining) videos from [socratica.com]() that cover everything above.\n",
        "\n",
        "### References\n",
        "\n",
        "__Beginner Python References__\n",
        "* [Learnpython.org Tutorials](https://www.learnpython.org)\n",
        "  - [Hello World](https://www.learnpython.org/en/Hello%2C_World%21)\n",
        "  - [Variables and Types](https://www.learnpython.org/en/Variables_and_Types)\n",
        "  - [Lists](https://www.learnpython.org/en/Lists)\n",
        "  - [Dictionaries](https://www.learnpython.org/en/Dictionaries)  \n",
        "  - [Basic Operators](https://www.learnpython.org/en/Basic_Operators)\n",
        "  - [String Formattting](https://www.learnpython.org/en/String_Formatting)\n",
        "  - [String Operations](https://www.learnpython.org/en/Basic_String_Operations)\n",
        "  - [Conditionals](https://www.learnpython.org/en/Conditions)\n",
        "  - [Loops](https://www.learnpython.org/en/Loops)\n",
        "  - [Functions](https://www.learnpython.org/en/Functions)\n",
        "  - [Classes and Objects](https://www.learnpython.org/en/Classes_and_Objects)\n",
        "  - [Modules and Packages](https://www.learnpython.org/en/Modules_and_Packages)\n",
        "* Socratica Python Videos:\n",
        "  - [Hello World](https://www.socratica.com/lesson/hello-world)\n",
        "  - [Strings](https://www.socratica.com/lesson/strings)\n",
        "  - [Numbers](https://www.socratica.com/lesson/numbers-in-v3)\n",
        "  - [Booleans](https://www.socratica.com/lesson/booleans)\n",
        "  - [Arithmetic](https://www.socratica.com/lesson/arithmetic-in-v3)\n",
        "  - [Conditionals](https://www.socratica.com/lesson/if-then-else)\n",
        "  - [Functions](https://www.socratica.com/lesson/functions)\n",
        "  - [Lists](https://www.socratica.com/lesson/lists)\n",
        "  - [Dictionaries](https://www.socratica.com/lesson/dictionaries)\n",
        "  - [Tuples](https://www.socratica.com/lesson/tuples)\n",
        "  - [Classes and Objects](https://www.socratica.com/lesson/classes-and-objects)\n",
        "\n",
        "__More Specific/In-depth Python Resources__\n",
        "* [Foundations of Python (runestone)](https://runestone.academy/runestone/books/published/fopp/index.html)\n",
        "* [Defining main functions in Python (realpython.com)](https://realpython.com/python-main-function/)\n",
        "* [Python Modules (on python.org)](https://docs.python.org/3/tutorial/modules.html)\n",
        "* [Jupyter Notebook: An Introduction](https://realpython.com/jupyter-notebook-introduction/)\n",
        "\n",
        "__Other Links/References__\n",
        "\n",
        "* [Anaconda Download](https://www.anaconda.com/products/individual)\n",
        "* [Allen Institute's text generator demo](https://demo.allennlp.org/next-token-lm)\n",
        "* [Deep AI's text generator demo](https://deepai.org/machine-learning-model/text-generator)\n",
        "* [GenSim](https://radimrehurek.com/gensim/intro.html)\n",
        "* [Gradient](https://gradient.paperspace.com)\n",
        "* [Google Colab](https://colab.research.google.com)\n",
        "* [Kaggle](https://www.kaggle.com)\n",
        "* [Hugging Face](https://huggingface.co)\n",
        "* [WebVectors Semantic Calculator demo](http://vectors.nlpl.eu/explore/embeddings/en/calculator/)"
      ],
      "id": "48e43186"
    }
  ]
}